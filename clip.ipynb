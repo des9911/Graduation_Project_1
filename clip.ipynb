{
 "cells": [
  {
   "cell_type": "markdown",
   "id": "da293215",
   "metadata": {},
   "source": [
    "라이브러리 설치  \n",
    "pip install transformers torch Pillow scipy  \n",
    "테스트용  \n",
    "  \n",
    "TODO  \n",
    " label DB에서 추출해서 사용 < 일단은 했음  \n",
    " 이미지 받는거 변수로 해야함  \n",
    " GPU사용 확인  \n",
    " 찾은 사물 현재 파이썬 set으로 사용 파일로 넘길지 이 노트북에서 끝까지 처리할지 정해야함. < 일단 이 파일에 했음"
   ]
  },
  {
   "cell_type": "markdown",
   "id": "7ff2c422",
   "metadata": {},
   "source": [
    "pip install pymysql  \n",
    "CREATE DATABASE kculture;"
   ]
  },
  {
   "cell_type": "code",
   "execution_count": 4,
   "id": "6006b1e9",
   "metadata": {},
   "outputs": [],
   "source": [
    "input_year = 1930\n",
    "image_path = \"raw image/1930.jpg\""
   ]
  },
  {
   "cell_type": "code",
   "execution_count": 1,
   "id": "b8f92b00",
   "metadata": {},
   "outputs": [
    {
     "name": "stdout",
     "output_type": "stream",
     "text": [
      "('air conditioner', 1966, 2025, 'A device that cools and dehumidifies the air.')\n",
      "('band', 1970, 2025, 'wound-protecting medical supplies')\n",
      "('band-aid', 1920, 2025, 'A small bandage used to cover a cut or a scratch.')\n",
      "('bluetooth speaker', 2001, 2025, 'A portable speaker that connects wirelessly.')\n",
      "('boom microphone', 1929, 2025, 'a microphone attached to a long pole')\n",
      "('buldak', 2010, 2025, 'Spicy korean ramen')\n",
      "('credit card', 1958, 2025, 'A plastic card used to make purchases on credit.')\n",
      "('drain', 1960, 2025, 'a grid-shaped iron drain')\n",
      "('Milks', 1989, 2025, 'korean drink')\n",
      "('mouse', 1964, 2025, 'A hand-held pointing device for computers.')\n",
      "('mouse pad', 1970, 2025, 'A surface for placing and moving a computer mouse.')\n",
      "('padded jacket', 1992, 2025, 'nylon padding')\n",
      "('seoul milk', 1974, 2025, 'milk sold in square pack')\n",
      "('smart watch', 2012, 2025, 'A wristwatch with computing capabilities.')\n",
      "('sunglasses', 1929, 2025, 'Eyewear designed to protect the eyes from the sun.')\n",
      "('tablet computer', 2010, 2025, 'iPad or Galaxy Tab etc.')\n",
      "('USB Flash Drive', 2000, 2025, 'A small storage device.')\n"
     ]
    }
   ],
   "source": [
    "import pymysql\n",
    "\n",
    "conn = pymysql.connect(host='127.0.0.1', user='root', password='0000', db='kculture', charset='utf8') # DB 연결, password 본인 DB 비밀번호로 변경\n",
    "cur = conn.cursor()\n",
    "\n",
    "cur.execute(\"\"\"CREATE TABLE IF NOT EXISTS ObjectList (\n",
    "    name VARCHAR(255) NOT NULL PRIMARY KEY,\n",
    "    start_year INT NOT NULL,\n",
    "    end_year INT NOT NULL DEFAULT (YEAR(CURDATE())),\n",
    "    description TEXT NULL\n",
    ")\"\"\")\n",
    "\n",
    "cur.execute(\"\"\"INSERT INTO ObjectList (name, start_year, description) VALUES\n",
    "    ('band', 1970, 'wound-protecting medical supplies'),\n",
    "    ('drain', 1960, 'a grid-shaped iron drain'),\n",
    "    ('Milks', 1989, 'korean drink'),\n",
    "    ('padded jacket', 1992, 'nylon padding'),\n",
    "    ('boom microphone', 1929, 'a microphone attached to a long pole'),\n",
    "    ('tablet computer', 2010, 'iPad or Galaxy Tab etc.'),\n",
    "    ('buldak', 2010, 'Spicy korean ramen'),\n",
    "    ('seoul milk', 1974, 'milk sold in square pack'),\n",
    "    ('band-aid', 1920, 'A small bandage used to cover a cut or a scratch.'),\n",
    "    ('mouse', 1964, 'A hand-held pointing device for computers.'),\n",
    "    ('mouse pad', 1970, 'A surface for placing and moving a computer mouse.'),\n",
    "    ('USB Flash Drive', 2000, 'A small storage device.'),\n",
    "    ('smart watch', 2012, 'A wristwatch with computing capabilities.'),\n",
    "    ('sunglasses', 1929, 'Eyewear designed to protect the eyes from the sun.'),\n",
    "    ('credit card', 1958, 'A plastic card used to make purchases on credit.'),\n",
    "    ('bluetooth speaker', 2001, 'A portable speaker that connects wirelessly.'),\n",
    "    ('air conditioner', 1966, 'A device that cools and dehumidifies the air.')\n",
    "    ON DUPLICATE KEY UPDATE start_year=VALUES(start_year), description=VALUES(description)\n",
    "    \"\"\")\n",
    "\n",
    "conn.commit()\n",
    "\n",
    "cur.execute(\"SELECT * from ObjectList\")\n",
    "\n",
    "rows = cur.fetchall()\n",
    "for row in rows:\n",
    "    print(row)\n",
    "    \n",
    "conn.close()"
   ]
  },
  {
   "cell_type": "code",
   "execution_count": 5,
   "id": "05eecb2d",
   "metadata": {},
   "outputs": [
    {
     "name": "stdout",
     "output_type": "stream",
     "text": [
      "CPU\n"
     ]
    },
    {
     "name": "stderr",
     "output_type": "stream",
     "text": [
      "Device set to use cpu\n"
     ]
    },
    {
     "name": "stdout",
     "output_type": "stream",
     "text": [
      "모델 로딩 완료.\n",
      "'raw image/1930.jpg' 이미지를 성공적으로 불러왔습니다.\n",
      "탐색할 객체: ['air conditioner', 'band', 'band-aid', 'bluetooth speaker', 'boom microphone', 'buldak', 'credit card', 'drain', 'Milks', 'mouse', 'mouse pad', 'padded jacket', 'seoul milk', 'smart watch', 'sunglasses', 'tablet computer', 'USB Flash Drive']\n",
      "객체 탐지를 시작합니다...\n",
      "객체 탐지 완료.\n",
      "\n",
      "--- 탐지 결과 ---\n",
      "{'air conditioner'}\n"
     ]
    }
   ],
   "source": [
    "from PIL import Image\n",
    "import torch\n",
    "from transformers import pipeline\n",
    "\n",
    "if torch.cuda.is_available():\n",
    "    print(f\"GPU ({torch.cuda.get_device_name(0)})\")\n",
    "    device_option = 0\n",
    "else:\n",
    "    print(\"CPU\")\n",
    "    device_option = -1\n",
    "\n",
    "# 'zero-shot-object-detection' 파이프라인 불러오기\n",
    "#    - model: 사용할 모델을 지정합니다. 'google/owlv2-base-patch16-ensemble'은 성능이 좋은 최신 모델입니다.\n",
    "#    - task: 수행할 작업을 지정합니다.\n",
    "detector = pipeline(model=\"google/owlv2-base-patch16-ensemble\", task=\"zero-shot-object-detection\", device=device_option)\n",
    "print(\"모델 로딩 완료.\")\n",
    "\n",
    "# DB에서 객체 목록 불러오기\n",
    "conn = pymysql.connect(host='127.0.0.1', user='root', password='0000', db='kculture', charset='utf8') # DB 연결, password 본인 DB 비밀번호로 변경\n",
    "cur = conn.cursor()\n",
    "cur.execute(\"SELECT name from ObjectList\")\n",
    "candidate_labels = []\n",
    "rows = cur.fetchall()\n",
    "for row in rows:\n",
    "    candidate_labels.append(row[0])\n",
    "conn.close()\n",
    "\n",
    "try:\n",
    "    image = Image.open(image_path)\n",
    "    print(f\"'{image_path}' 이미지를 성공적으로 불러왔습니다.\")\n",
    "\n",
    "    # 이미지에서 찾고 싶은 객체 목록 정의\n",
    "    #    - 이 목록을 수정하여 원하는 객체를 찾을 수 있습니다.\n",
    "    #    - \"a photo of a cat\" 처럼 구체적으로 작성하면 정확도가 올라갑니다.\n",
    "    print(f\"탐색할 객체: {candidate_labels}\")\n",
    "\n",
    "    # 모델 실행하여 객체 탐지\n",
    "    #     - 이미지와 객체 후보 목록을 모델에 전달합니다.\n",
    "    print(\"객체 탐지를 시작합니다...\")\n",
    "    predictions = detector(image, candidate_labels=candidate_labels)\n",
    "    print(\"객체 탐지 완료.\")\n",
    "\n",
    "    # 결과 출력\n",
    "    #    - 모델이 찾은 각 객체의 정보를 보기 쉽게 출력합니다.\n",
    "    print(\"\\n--- 탐지 결과 ---\")\n",
    "    if not predictions:\n",
    "        print(\"이미지에서 지정된 객체를 찾지 못했습니다.\")\n",
    "    else:\n",
    "        labels = []\n",
    "        for prediction in predictions:\n",
    "            labels.append(prediction[\"label\"])\n",
    "            \n",
    "            # 신뢰도 점수가 0.1 이상인 결과만 출력 (불필요한 결과 제거)\n",
    "            if prediction[\"score\"] > 0.1:\n",
    "                labels.append(prediction[\"label\"])\n",
    "        set_labels = set(labels)  # 중복 제거\n",
    "        print(set_labels)\n",
    "\n",
    "except FileNotFoundError:\n",
    "    print(f\"오류: '{image_path}' 파일을 찾을 수 없습니다. 코드와 같은 폴더에 이미지 파일이 있는지 확인하세요.\")\n",
    "except Exception as e:\n",
    "    print(f\"오류가 발생했습니다: {e}\")"
   ]
  },
  {
   "cell_type": "code",
   "execution_count": 6,
   "id": "b903811a",
   "metadata": {},
   "outputs": [
    {
     "name": "stdout",
     "output_type": "stream",
     "text": [
      "이름 : air conditioner, 출시 연도: 1966, 설명: A device that cools and dehumidifies the air.\n",
      "\n"
     ]
    }
   ],
   "source": [
    "conn = pymysql.connect(host='127.0.0.1', user='root', password='0000', db='kculture', charset='utf8') # DB 연결, password 본인 DB 비밀번호로 변경\n",
    "cur = conn.cursor()\n",
    "\n",
    "cur.execute(\"SELECT * from ObjectList\")\n",
    "\n",
    "format_strings = ','.join(['%s'] * len(set_labels))\n",
    "sql = \"SELECT name, start_year, description FROM ObjectList WHERE name IN (%s)\" % format_strings\n",
    "cur.execute(sql, tuple(set_labels) )\n",
    "\n",
    "rows = cur.fetchall()\n",
    "for row in rows:\n",
    "    if row[1] > input_year:\n",
    "        print(\"이름 : {}, 출시 연도: {}, 설명: {}\\n\".format(row[0], row[1], row[2]))\n",
    "\n",
    "conn.close()"
   ]
  }
 ],
 "metadata": {
  "kernelspec": {
   "display_name": "Python 3",
   "language": "python",
   "name": "python3"
  },
  "language_info": {
   "codemirror_mode": {
    "name": "ipython",
    "version": 3
   },
   "file_extension": ".py",
   "mimetype": "text/x-python",
   "name": "python",
   "nbconvert_exporter": "python",
   "pygments_lexer": "ipython3",
   "version": "3.13.7"
  }
 },
 "nbformat": 4,
 "nbformat_minor": 5
}
