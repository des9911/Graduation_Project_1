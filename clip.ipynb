{
 "cells": [
  {
   "cell_type": "markdown",
   "id": "da293215",
   "metadata": {},
   "source": [
    "라이브러리 설치  \n",
    "pip install transformers torch Pillow scipy  \n",
    "테스트용  \n",
    "  \n",
    "TODO  \n",
    " label DB에서 추출해서 사용  \n",
    " 이미지 받는거 변수로 해야함  \n",
    " GPU사용 확인  \n",
    " 찾은 사물 현재 파이썬 set으로 사용 파일로 넘길지 이 노트북에서 끝까지 처리할지 정해야함."
   ]
  },
  {
   "cell_type": "code",
   "execution_count": null,
   "id": "05eecb2d",
   "metadata": {},
   "outputs": [
    {
     "name": "stdout",
     "output_type": "stream",
     "text": [
      "CPU\n"
     ]
    },
    {
     "name": "stderr",
     "output_type": "stream",
     "text": [
      "Device set to use cpu\n"
     ]
    },
    {
     "name": "stdout",
     "output_type": "stream",
     "text": [
      "모델 로딩 완료.\n",
      "'raw image/1400.jpg' 이미지를 성공적으로 불러왔습니다.\n",
      "탐색할 객체: ['air conditioner', 'revolver', 'pistol', 'LED light', 'candle', 'potato']\n",
      "객체 탐지를 시작합니다...\n",
      "객체 탐지 완료.\n",
      "\n",
      "--- 탐지 결과 ---\n",
      "{'potato'}\n"
     ]
    }
   ],
   "source": [
    "from PIL import Image\n",
    "import torch\n",
    "from transformers import pipeline\n",
    "\n",
    "if torch.cuda.is_available():\n",
    "    print(f\"GPU ({torch.cuda.get_device_name(0)})\")\n",
    "    device_option = 0\n",
    "else:\n",
    "    print(\"CPU\")\n",
    "    device_option = -1\n",
    "\n",
    "# 'zero-shot-object-detection' 파이프라인 불러오기\n",
    "#    - model: 사용할 모델을 지정합니다. 'google/owlv2-base-patch16-ensemble'은 성능이 좋은 최신 모델입니다.\n",
    "#    - task: 수행할 작업을 지정합니다.\n",
    "detector = pipeline(model=\"google/owlv2-base-patch16-ensemble\", task=\"zero-shot-object-detection\", device=device_option)\n",
    "print(\"모델 로딩 완료.\")\n",
    "\n",
    "try:\n",
    "    #image_path = \"raw image/1930.jpg\" #에어컨, 리볼버? 피스톨?, LED등\n",
    "    image_path = \"raw image/1400.jpg\" #감자\n",
    "    image = Image.open(image_path)\n",
    "    print(f\"'{image_path}' 이미지를 성공적으로 불러왔습니다.\")\n",
    "\n",
    "    # 이미지에서 찾고 싶은 객체 목록 정의\n",
    "    #    - 이 목록을 수정하여 원하는 객체를 찾을 수 있습니다.\n",
    "    #    - \"a photo of a cat\" 처럼 구체적으로 작성하면 정확도가 올라갑니다.\n",
    "    candidate_labels = [\"air conditioner\", \"revolver\", \"pistol\", \"LED light\", \"candle\", \"potato\"]\n",
    "    print(f\"탐색할 객체: {candidate_labels}\")\n",
    "\n",
    "    # 모델 실행하여 객체 탐지\n",
    "    #     - 이미지와 객체 후보 목록을 모델에 전달합니다.\n",
    "    print(\"객체 탐지를 시작합니다...\")\n",
    "    predictions = detector(image, candidate_labels=candidate_labels)\n",
    "    print(\"객체 탐지 완료.\")\n",
    "\n",
    "    # 결과 출력\n",
    "    #    - 모델이 찾은 각 객체의 정보를 보기 쉽게 출력합니다.\n",
    "    print(\"\\n--- 탐지 결과 ---\")\n",
    "    if not predictions:\n",
    "        print(\"이미지에서 지정된 객체를 찾지 못했습니다.\")\n",
    "    else:\n",
    "        labels = []\n",
    "        for prediction in predictions:\n",
    "            labels.append(prediction[\"label\"])\n",
    "            \n",
    "            # 신뢰도 점수가 0.1 이상인 결과만 출력 (불필요한 결과 제거)\n",
    "            if prediction[\"score\"] > 0.1:\n",
    "                labels.append(prediction[\"label\"])\n",
    "        set_labels = set(labels)  # 중복 제거\n",
    "        print(set_labels)\n",
    "\n",
    "except FileNotFoundError:\n",
    "    print(f\"오류: '{image_path}' 파일을 찾을 수 없습니다. 코드와 같은 폴더에 이미지 파일이 있는지 확인하세요.\")\n",
    "except Exception as e:\n",
    "    print(f\"오류가 발생했습니다: {e}\")"
   ]
  }
 ],
 "metadata": {
  "kernelspec": {
   "display_name": "Python 3",
   "language": "python",
   "name": "python3"
  },
  "language_info": {
   "codemirror_mode": {
    "name": "ipython",
    "version": 3
   },
   "file_extension": ".py",
   "mimetype": "text/x-python",
   "name": "python",
   "nbconvert_exporter": "python",
   "pygments_lexer": "ipython3",
   "version": "3.13.7"
  }
 },
 "nbformat": 4,
 "nbformat_minor": 5
}
